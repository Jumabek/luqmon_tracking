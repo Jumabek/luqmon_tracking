{
 "cells": [
  {
   "cell_type": "code",
   "execution_count": 1,
   "metadata": {},
   "outputs": [
    {
     "name": "stderr",
     "output_type": "stream",
     "text": [
      "\u001b[32m2023-07-15 09:18:52.080\u001b[0m | \u001b[33m\u001b[1mWARNING \u001b[0m | \u001b[36mboxmot.utils.checks\u001b[0m:\u001b[36mcheck_packages\u001b[0m:\u001b[36m27\u001b[0m - \u001b[33m\u001b[1m\n",
      "Missing packages: \"ultralytics\" \n",
      "Atempting installation...\u001b[0m\n",
      "\u001b[32m2023-07-15 09:18:53.022\u001b[0m | \u001b[32m\u001b[1mSUCCESS \u001b[0m | \u001b[36mboxmot.utils.checks\u001b[0m:\u001b[36mcheck_packages\u001b[0m:\u001b[36m33\u001b[0m - \u001b[32m\u001b[1mAll the missing packages were installed successfully\u001b[0m\n"
     ]
    }
   ],
   "source": [
    "# https://github.com/ultralytics/ultralytics/issues/1429#issuecomment-1519239409\n",
    "\n",
    "from pathlib import Path\n",
    "import torch\n",
    "import argparse\n",
    "import numpy as np\n",
    "import cv2\n",
    "from types import SimpleNamespace\n",
    "\n",
    "from boxmot.tracker_zoo import create_tracker\n",
    "from boxmot.utils import ROOT, WEIGHTS\n",
    "from boxmot.utils.checks import TestRequirements\n",
    "from boxmot.utils import logger as LOGGER\n",
    "from boxmot.utils.torch_utils import select_device\n",
    "\n",
    "# tr = TestRequirements()\n",
    "# tr.check_packages(('ultralytics',))  # install\n",
    "%load_ext autoreload\n",
    "%autoreload 2\n",
    "from ultralytics.yolo.engine.model import YOLO, TASK_MAP\n",
    "\n",
    "from ultralytics.yolo.utils import SETTINGS, colorstr, ops, is_git_dir, IterableSimpleNamespace\n",
    "from ultralytics.yolo.utils.checks import check_imgsz, print_args\n",
    "from ultralytics.yolo.utils.files import increment_path\n",
    "from ultralytics.yolo.engine.results import Boxes\n",
    "from ultralytics.yolo.data.utils import VID_FORMATS\n",
    "from ultralytics.yolo.utils.plotting import save_one_box\n",
    "\n",
    "from multi_yolo_backend import MultiYolo\n",
    "from utils import write_MOT_results\n",
    "\n",
    "\n",
    "def on_predict_start(predictor):\n",
    "    predictor.trackers = []\n",
    "    predictor.tracker_outputs = [None] * predictor.dataset.bs\n",
    "    predictor.args.tracking_config = \\\n",
    "        ROOT /\\\n",
    "        'boxmot' /\\\n",
    "        'deepocsort' /\\\n",
    "        'configs' /\\\n",
    "        ('deepocsort' + '.yaml')\n",
    "    for i in range(predictor.dataset.bs):\n",
    "        tracker = create_tracker(\n",
    "            predictor.args.tracking_method,\n",
    "            predictor.args.tracking_config,\n",
    "            predictor.args.reid_model,\n",
    "            predictor.device,\n",
    "            predictor.args.half\n",
    "        )\n",
    "        predictor.trackers.append(tracker)\n",
    "\n",
    "\n",
    "\n",
    "\n",
    "def parse_opt(yolo_model=WEIGHTS / 'yolov8n.pt', reid_model=WEIGHTS / 'mobilenetv2_x1_4_dukemtmcreid.pt',\n",
    "              tracking_method='deepocsort', source='aiworkspace.jpg', imgsz=[640], conf=0.5, iou=0.7, device='', show=False,\n",
    "              save=False, classes=None, project=ROOT / 'runs' / 'track', name='exp', exist_ok=False, half=False,\n",
    "              vid_stride=1, hide_label=False, hide_conf=False, save_txt=False, save_id_crops=False, save_mot=False):\n",
    "    opt = argparse.Namespace(\n",
    "        yolo_model=yolo_model,\n",
    "        reid_model=reid_model,\n",
    "        tracking_method=tracking_method,\n",
    "        source=source,\n",
    "        imgsz=imgsz,\n",
    "        conf=conf,\n",
    "        iou=iou,\n",
    "        device=device,\n",
    "        show=show,\n",
    "        save=save,\n",
    "        classes=classes,\n",
    "        project=project,\n",
    "        name=name,\n",
    "        exist_ok=exist_ok,\n",
    "        half=half,\n",
    "        vid_stride=vid_stride,\n",
    "        hide_label=hide_label,\n",
    "        hide_conf=hide_conf,\n",
    "        save_txt=save_txt,\n",
    "        save_id_crops=save_id_crops,\n",
    "        save_mot=save_mot\n",
    "    )\n",
    "    return opt\n",
    "\n"
   ]
  },
  {
   "attachments": {},
   "cell_type": "markdown",
   "metadata": {},
   "source": [
    "# test sample image with 2 different classes and 2 objects\n"
   ]
  },
  {
   "cell_type": "code",
   "execution_count": 4,
   "metadata": {},
   "outputs": [],
   "source": [
    "\n",
    "from ultralytics import yolo\n",
    "args = {'yolo_model': 'yolov8n', 'reid_model': Path('/home/juma/code/luqmon_tracking/examples/weights/mobilenetv2_x1_4_dukemtmcreid.pt'), 'tracking_method': 'deepocsort', 'source': '/home/juma/code/luqmon_tracking/examples/aiworkspace.jpg',\n",
    "        'imgsz': [640], 'conf': 0.5, 'iou': 0.7, 'device': '', 'show': True, 'save': False, 'classes': None, 'project': '/home/juma/code/luqmon_tracking/runs/track', 'name': 'exp', 'exist_ok': False, 'half': False, 'vid_stride': 1, 'hide_label': False, 'hide_conf': False, 'save_txt': False, 'save_id_crops': False, 'save_mot': False}\n",
    "\n",
    "model = YOLO(args['yolo_model'] if 'v8' in str(\n",
    "    args['yolo_model']) else 'yolov8n')\n",
    "overrides = model.overrides.copy()\n",
    "model.predictor = yolo.v8.detect.DetectionPredictor(\n",
    "    overrides=overrides, _callbacks=model.callbacks)\n",
    "\n",
    "# extract task predictor\n",
    "predictor = model.predictor\n",
    "\n",
    "# combine default predictor args with custom, preferring custom\n",
    "combined_args = {**predictor.args.__dict__, **args}\n",
    "# overwrite default args\n",
    "predictor.args = IterableSimpleNamespace(**combined_args)\n",
    "predictor.args.device = select_device(args['device'])\n",
    "\n",
    "\n",
    "# setup source and model\n",
    "if not predictor.model:\n",
    "    predictor.setup_model(model=model.model, verbose=False)\n",
    "\n",
    "predictor.setup_source(\n",
    "    '/home/juma/code/luqmon_tracking/examples/aiworkspace.jpg')\n",
    "\n",
    "predictor.args.imgsz = check_imgsz(\n",
    "    predictor.args.imgsz, stride=model.model.stride, min_dim=2)  # check image size\n",
    "\n",
    "# Warmup model\n",
    "if not predictor.done_warmup:\n",
    "    predictor.model.warmup(imgsz=(\n",
    "        1 if predictor.model.pt or predictor.model.triton else predictor.dataset.bs, 3, *predictor.imgsz))\n",
    "    predictor.done_warmup = True\n",
    "predictor.seen, predictor.windows, predictor.batch, predictor.profilers = 0, [\n",
    "], None, (ops.Profile(), ops.Profile(), ops.Profile(), ops.Profile())\n",
    "predictor.add_callback('on_predict_start', on_predict_start)\n",
    "predictor.run_callbacks('on_predict_start')\n",
    "model = MultiYolo(\n",
    "    model=model.predictor.model if 'v8' in str(\n",
    "        args['yolo_model']) else args['yolo_model'],\n",
    "    device=predictor.device,\n",
    "    args=predictor.args\n",
    ")\n",
    "for frame_idx, batch in enumerate(predictor.dataset):\n",
    "    predictor.run_callbacks('on_predict_batch_start')\n",
    "    predictor.batch = batch\n",
    "    path, im0s, vid_cap, s = batch\n",
    "    visualize = increment_path(save_dir / Path(path[0]).stem, exist_ok=True, mkdir=True) if predictor.args.visualize and (\n",
    "        not predictor.dataset.source_type.tensor) else False\n",
    "\n",
    "    n = len(im0s)\n",
    "    predictor.results = [None] * n\n",
    "\n",
    "    # Preprocess\n",
    "    with predictor.profilers[0]:\n",
    "        im = predictor.preprocess(im0s)\n",
    "\n",
    "    # Inference\n",
    "    with predictor.profilers[1]:\n",
    "        preds = model(im, im0s)  # MODIFIED to return FeatureMap\n",
    "\n",
    "    # Postprocess moved to MultiYolo\n",
    "    with predictor.profilers[2]:\n",
    "        predictor.results = model.postprocess(\n",
    "            path, preds, im, im0s, predictor)  # MODIFIED to return FeatureMapBBoxes"
   ]
  },
  {
   "cell_type": "code",
   "execution_count": 3,
   "metadata": {},
   "outputs": [
    {
     "ename": "IndexError",
     "evalue": "list index out of range",
     "output_type": "error",
     "traceback": [
      "\u001b[0;31m---------------------------------------------------------------------------\u001b[0m",
      "\u001b[0;31mIndexError\u001b[0m                                Traceback (most recent call last)",
      "Cell \u001b[0;32mIn[3], line 1\u001b[0m\n\u001b[0;32m----> 1\u001b[0m feature_map \u001b[39m=\u001b[39m preds[\u001b[39m2\u001b[39;49m]\n\u001b[1;32m      2\u001b[0m feature_map\u001b[39m.\u001b[39mshape\n",
      "\u001b[0;31mIndexError\u001b[0m: list index out of range"
     ]
    }
   ],
   "source": [
    "feature_map = preds[2]\n",
    "feature_map.shape"
   ]
  },
  {
   "cell_type": "code",
   "execution_count": null,
   "metadata": {},
   "outputs": [
    {
     "ename": "",
     "evalue": "",
     "output_type": "error",
     "traceback": [
      "\u001b[1;31mRunning cells with 'myenv' requires the ipykernel package.\n",
      "\u001b[1;31mRun the following command to install 'ipykernel' into the Python environment. \n",
      "\u001b[1;31mCommand: '/home/juma/code/fresh/luqmon_tracking/myenv/bin/python -m pip install ipykernel -U --force-reinstall'"
     ]
    }
   ],
   "source": [
    "predictor.results[0].boxes.boxes"
   ]
  },
  {
   "cell_type": "code",
   "execution_count": null,
   "metadata": {},
   "outputs": [
    {
     "ename": "",
     "evalue": "",
     "output_type": "error",
     "traceback": [
      "\u001b[1;31mRunning cells with 'myenv' requires the ipykernel package.\n",
      "\u001b[1;31mRun the following command to install 'ipykernel' into the Python environment. \n",
      "\u001b[1;31mCommand: '/home/juma/code/fresh/luqmon_tracking/myenv/bin/python -m pip install ipykernel -U --force-reinstall'"
     ]
    }
   ],
   "source": [
    "# Define the bounding box coordinates\n",
    "import matplotlib.patches as patches\n",
    "from matplotlib import pyplot as plt\n",
    "\n",
    "# Create a figure and axes\n",
    "fig, ax = plt.subplots(1)\n",
    "ax.imshow(im0s[0])\n",
    "\n",
    "boxes = [[392.85, 728.63, 1079.4, 1192.9],\n",
    "         [1594.9, 423.06, 1737.7, 590.08],\n",
    "         [1067.1, 638.26, 1437.0, 975.21],\n",
    "         [1733.9, 414.50, 1852.1, 556.82]]\n",
    "class_ids = [56, 58, 56, 58]\n",
    "class_labels = [predictor.results[0].names[i] for i in class_ids]\n",
    "\n",
    "# Plot the bounding boxes with class labels\n",
    "for box, label in zip(boxes, class_labels):\n",
    "    x_min, y_min, x_max, y_max = box[:4]\n",
    "    width = x_max - x_min\n",
    "    height = y_max - y_min\n",
    "    rect = patches.Rectangle(\n",
    "        (x_min, y_min), width, height, linewidth=1, edgecolor='r', facecolor='none')\n",
    "    ax.add_patch(rect)\n",
    "    ax.text(x_min, y_min, str(label), color='y', fontsize=16)\n",
    "\n",
    "# Display the image with bounding boxes\n",
    "plt.axis('off')\n",
    "plt.show()"
   ]
  },
  {
   "cell_type": "code",
   "execution_count": null,
   "metadata": {},
   "outputs": [
    {
     "ename": "",
     "evalue": "",
     "output_type": "error",
     "traceback": [
      "\u001b[1;31mRunning cells with 'myenv' requires the ipykernel package.\n",
      "\u001b[1;31mRun the following command to install 'ipykernel' into the Python environment. \n",
      "\u001b[1;31mCommand: '/home/juma/code/fresh/luqmon_tracking/myenv/bin/python -m pip install ipykernel -U --force-reinstall'"
     ]
    }
   ],
   "source": [
    "\n",
    "feature_map_boxes = predictor.results[0].feature_map_boxes[0]\n",
    "print(feature_map_boxes.shape)\n",
    "feature_map_boxes"
   ]
  },
  {
   "cell_type": "code",
   "execution_count": null,
   "metadata": {},
   "outputs": [
    {
     "ename": "",
     "evalue": "",
     "output_type": "error",
     "traceback": [
      "\u001b[1;31mRunning cells with 'myenv' requires the ipykernel package.\n",
      "\u001b[1;31mRun the following command to install 'ipykernel' into the Python environment. \n",
      "\u001b[1;31mCommand: '/home/juma/code/fresh/luqmon_tracking/myenv/bin/python -m pip install ipykernel -U --force-reinstall'"
     ]
    }
   ],
   "source": []
  },
  {
   "cell_type": "code",
   "execution_count": null,
   "metadata": {},
   "outputs": [
    {
     "ename": "",
     "evalue": "",
     "output_type": "error",
     "traceback": [
      "\u001b[1;31mRunning cells with 'myenv' requires the ipykernel package.\n",
      "\u001b[1;31mRun the following command to install 'ipykernel' into the Python environment. \n",
      "\u001b[1;31mCommand: '/home/juma/code/fresh/luqmon_tracking/myenv/bin/python -m pip install ipykernel -U --force-reinstall'"
     ]
    }
   ],
   "source": [
    "x_min, y_min, x_max, y_max = 49,  96, 135, 154\n",
    "chair1 = feature_map[0, :, y_min:y_max, x_min:x_max].mean(dim=(1, 2))\n",
    "chair1.shape"
   ]
  },
  {
   "cell_type": "code",
   "execution_count": null,
   "metadata": {},
   "outputs": [
    {
     "ename": "",
     "evalue": "",
     "output_type": "error",
     "traceback": [
      "\u001b[1;31mRunning cells with 'myenv' requires the ipykernel package.\n",
      "\u001b[1;31mRun the following command to install 'ipykernel' into the Python environment. \n",
      "\u001b[1;31mCommand: '/home/juma/code/fresh/luqmon_tracking/myenv/bin/python -m pip install ipykernel -U --force-reinstall'"
     ]
    }
   ],
   "source": [
    "x_min, y_min, x_max, y_max = 133,  85, 180, 127\n",
    "chair2 = feature_map[0, :, y_min:y_max, x_min:x_max].mean(dim=(1, 2))\n",
    "chair2.shape"
   ]
  },
  {
   "cell_type": "code",
   "execution_count": null,
   "metadata": {},
   "outputs": [
    {
     "ename": "",
     "evalue": "",
     "output_type": "error",
     "traceback": [
      "\u001b[1;31mRunning cells with 'myenv' requires the ipykernel package.\n",
      "\u001b[1;31mRun the following command to install 'ipykernel' into the Python environment. \n",
      "\u001b[1;31mCommand: '/home/juma/code/fresh/luqmon_tracking/myenv/bin/python -m pip install ipykernel -U --force-reinstall'"
     ]
    }
   ],
   "source": [
    "x_min, y_min, x_max, y_max = 199,  58, 217,  79\n",
    "plant1 = feature_map[0, :, y_min:y_max, x_min:x_max].mean(dim=(1, 2))\n",
    "plant1.shape"
   ]
  },
  {
   "cell_type": "code",
   "execution_count": null,
   "metadata": {},
   "outputs": [
    {
     "ename": "",
     "evalue": "",
     "output_type": "error",
     "traceback": [
      "\u001b[1;31mRunning cells with 'myenv' requires the ipykernel package.\n",
      "\u001b[1;31mRun the following command to install 'ipykernel' into the Python environment. \n",
      "\u001b[1;31mCommand: '/home/juma/code/fresh/luqmon_tracking/myenv/bin/python -m pip install ipykernel -U --force-reinstall'"
     ]
    }
   ],
   "source": [
    "x_min, y_min, x_max, y_max = 217,  57, 232,  75\n",
    "plant2 = feature_map[0, :, y_min:y_max, x_min:x_max].mean(dim=(1, 2))\n",
    "plant2.shape"
   ]
  },
  {
   "cell_type": "code",
   "execution_count": null,
   "metadata": {},
   "outputs": [
    {
     "ename": "",
     "evalue": "",
     "output_type": "error",
     "traceback": [
      "\u001b[1;31mRunning cells with 'myenv' requires the ipykernel package.\n",
      "\u001b[1;31mRun the following command to install 'ipykernel' into the Python environment. \n",
      "\u001b[1;31mCommand: '/home/juma/code/fresh/luqmon_tracking/myenv/bin/python -m pip install ipykernel -U --force-reinstall'"
     ]
    }
   ],
   "source": [
    "torch.norm(chair1 - chair2)"
   ]
  },
  {
   "cell_type": "code",
   "execution_count": null,
   "metadata": {},
   "outputs": [
    {
     "ename": "",
     "evalue": "",
     "output_type": "error",
     "traceback": [
      "\u001b[1;31mRunning cells with 'myenv' requires the ipykernel package.\n",
      "\u001b[1;31mRun the following command to install 'ipykernel' into the Python environment. \n",
      "\u001b[1;31mCommand: '/home/juma/code/fresh/luqmon_tracking/myenv/bin/python -m pip install ipykernel -U --force-reinstall'"
     ]
    }
   ],
   "source": [
    "torch.norm(chair1 - plant2)"
   ]
  },
  {
   "cell_type": "code",
   "execution_count": null,
   "metadata": {},
   "outputs": [
    {
     "ename": "",
     "evalue": "",
     "output_type": "error",
     "traceback": [
      "\u001b[1;31mRunning cells with 'myenv' requires the ipykernel package.\n",
      "\u001b[1;31mRun the following command to install 'ipykernel' into the Python environment. \n",
      "\u001b[1;31mCommand: '/home/juma/code/fresh/luqmon_tracking/myenv/bin/python -m pip install ipykernel -U --force-reinstall'"
     ]
    }
   ],
   "source": [
    "torch.norm(chair1 - plant1)"
   ]
  },
  {
   "cell_type": "code",
   "execution_count": null,
   "metadata": {},
   "outputs": [
    {
     "ename": "",
     "evalue": "",
     "output_type": "error",
     "traceback": [
      "\u001b[1;31mRunning cells with 'myenv' requires the ipykernel package.\n",
      "\u001b[1;31mRun the following command to install 'ipykernel' into the Python environment. \n",
      "\u001b[1;31mCommand: '/home/juma/code/fresh/luqmon_tracking/myenv/bin/python -m pip install ipykernel -U --force-reinstall'"
     ]
    }
   ],
   "source": [
    "torch.norm(plant2 - plant1)"
   ]
  },
  {
   "cell_type": "code",
   "execution_count": null,
   "metadata": {},
   "outputs": [
    {
     "ename": "",
     "evalue": "",
     "output_type": "error",
     "traceback": [
      "\u001b[1;31mRunning cells with 'myenv' requires the ipykernel package.\n",
      "\u001b[1;31mRun the following command to install 'ipykernel' into the Python environment. \n",
      "\u001b[1;31mCommand: '/home/juma/code/fresh/luqmon_tracking/myenv/bin/python -m pip install ipykernel -U --force-reinstall'"
     ]
    }
   ],
   "source": []
  },
  {
   "cell_type": "code",
   "execution_count": null,
   "metadata": {},
   "outputs": [
    {
     "ename": "",
     "evalue": "",
     "output_type": "error",
     "traceback": [
      "\u001b[1;31mRunning cells with 'myenv' requires the ipykernel package.\n",
      "\u001b[1;31mRun the following command to install 'ipykernel' into the Python environment. \n",
      "\u001b[1;31mCommand: '/home/juma/code/fresh/luqmon_tracking/myenv/bin/python -m pip install ipykernel -U --force-reinstall'"
     ]
    }
   ],
   "source": []
  },
  {
   "attachments": {},
   "cell_type": "markdown",
   "metadata": {},
   "source": [
    "# Same object distance\n"
   ]
  },
  {
   "cell_type": "code",
   "execution_count": null,
   "metadata": {},
   "outputs": [
    {
     "ename": "",
     "evalue": "",
     "output_type": "error",
     "traceback": [
      "\u001b[1;31mRunning cells with 'myenv' requires the ipykernel package.\n",
      "\u001b[1;31mRun the following command to install 'ipykernel' into the Python environment. \n",
      "\u001b[1;31mCommand: '/home/juma/code/fresh/luqmon_tracking/myenv/bin/python -m pip install ipykernel -U --force-reinstall'"
     ]
    }
   ],
   "source": [
    "import matplotlib.pyplot as plt\n",
    "from PIL import Image\n",
    "\n",
    "# Path to the images\n",
    "image_path1 = \"/home/juma/code/luqmon_tracking/assets/demo/frame1.png\"\n",
    "image_path2 = \"/home/juma/code/luqmon_tracking/assets/demo/frame2.png\"\n",
    "\n",
    "# Read the images\n",
    "image1 = Image.open(image_path1)\n",
    "image2 = Image.open(image_path2)\n",
    "\n",
    "# Display the images\n",
    "fig, (ax1, ax2) = plt.subplots(1, 2, figsize=(10, 5))\n",
    "\n",
    "ax1.imshow(image1)\n",
    "ax1.set_title(\"Image 1\")\n",
    "\n",
    "ax2.imshow(image2)\n",
    "ax2.set_title(\"Image 2\")\n",
    "\n",
    "# Remove the ticks from the axis\n",
    "ax1.axis('off')\n",
    "ax2.axis('off')\n",
    "\n",
    "# Show the plot\n",
    "plt.show()"
   ]
  },
  {
   "cell_type": "code",
   "execution_count": null,
   "metadata": {},
   "outputs": [
    {
     "ename": "",
     "evalue": "",
     "output_type": "error",
     "traceback": [
      "\u001b[1;31mRunning cells with 'myenv' requires the ipykernel package.\n",
      "\u001b[1;31mRun the following command to install 'ipykernel' into the Python environment. \n",
      "\u001b[1;31mCommand: '/home/juma/code/fresh/luqmon_tracking/myenv/bin/python -m pip install ipykernel -U --force-reinstall'"
     ]
    }
   ],
   "source": [
    "\n",
    "from ultralytics import yolo\n",
    "args = {'yolo_model': 'yolov8n', 'reid_model': Path('/home/juma/code/luqmon_tracking/examples/weights/mobilenetv2_x1_4_dukemtmcreid.pt'), 'tracking_method': 'deepocsort',\n",
    "        'imgsz': [640], 'conf': 0.5, 'iou': 0.7, 'device': '', 'show': True, 'save': False, 'classes': None, 'project': '/home/juma/code/luqmon_tracking/runs/track', 'name': 'exp', 'exist_ok': False, 'half': False, 'vid_stride': 1, 'hide_label': False, 'hide_conf': False, 'save_txt': False, 'save_id_crops': False, 'save_mot': False}\n",
    "\n",
    "model = YOLO(args['yolo_model'] if 'v8' in str(\n",
    "    args['yolo_model']) else 'yolov8n')\n",
    "overrides = model.overrides.copy()\n",
    "model.predictor = yolo.v8.detect.DetectionPredictor(\n",
    "    overrides=overrides, _callbacks=model.callbacks)\n",
    "\n",
    "# extract task predictor\n",
    "predictor = model.predictor\n",
    "\n",
    "# combine default predictor args with custom, preferring custom\n",
    "combined_args = {**predictor.args.__dict__, **args}\n",
    "# overwrite default args\n",
    "predictor.args = IterableSimpleNamespace(**combined_args)\n",
    "predictor.args.device = select_device(args['device'])\n",
    "\n",
    "\n",
    "# setup source and model\n",
    "if not predictor.model:\n",
    "    predictor.setup_model(model=model.model, verbose=False)\n",
    "\n",
    "predictor.setup_source(\n",
    "    '/home/juma/code/luqmon_tracking/assets/demo/frame1.png')\n",
    "\n",
    "predictor.args.imgsz = check_imgsz(\n",
    "    predictor.args.imgsz, stride=model.model.stride, min_dim=2)  # check image size\n",
    "\n",
    "# Warmup model\n",
    "if not predictor.done_warmup:\n",
    "    predictor.model.warmup(imgsz=(\n",
    "        1 if predictor.model.pt or predictor.model.triton else predictor.dataset.bs, 3, *predictor.imgsz))\n",
    "    predictor.done_warmup = True\n",
    "predictor.seen, predictor.windows, predictor.batch, predictor.profilers = 0, [\n",
    "], None, (ops.Profile(), ops.Profile(), ops.Profile(), ops.Profile())\n",
    "predictor.add_callback('on_predict_start', on_predict_start)\n",
    "predictor.run_callbacks('on_predict_start')\n",
    "model = MultiYolo(\n",
    "    model=model.predictor.model if 'v8' in str(\n",
    "        args['yolo_model']) else args['yolo_model'],\n",
    "    device=predictor.device,\n",
    "    args=predictor.args\n",
    ")\n",
    "for frame_idx, batch in enumerate(predictor.dataset):\n",
    "    predictor.run_callbacks('on_predict_batch_start')\n",
    "    predictor.batch = batch\n",
    "    path, im0s, vid_cap, s = batch\n",
    "\n",
    "    n = len(im0s)\n",
    "    predictor.results = [None] * n\n",
    "\n",
    "    # Preprocess\n",
    "    with predictor.profilers[0]:\n",
    "        im = predictor.preprocess(im0s)\n",
    "\n",
    "    # Inference\n",
    "    with predictor.profilers[1]:\n",
    "        preds = model(im, im0s)  # MODIFIED to return FeatureMap\n",
    "\n",
    "    # Postprocess moved to MultiYolo\n",
    "    with predictor.profilers[2]:\n",
    "        predictor.results = model.postprocess(\n",
    "            path, preds, im, im0s, predictor)  # MODIFIED to return FeatureMapBBoxes"
   ]
  },
  {
   "cell_type": "code",
   "execution_count": null,
   "metadata": {},
   "outputs": [
    {
     "ename": "",
     "evalue": "",
     "output_type": "error",
     "traceback": [
      "\u001b[1;31mRunning cells with 'myenv' requires the ipykernel package.\n",
      "\u001b[1;31mRun the following command to install 'ipykernel' into the Python environment. \n",
      "\u001b[1;31mCommand: '/home/juma/code/fresh/luqmon_tracking/myenv/bin/python -m pip install ipykernel -U --force-reinstall'"
     ]
    }
   ],
   "source": [
    "predictor.results[0].boxes.boxes"
   ]
  },
  {
   "cell_type": "code",
   "execution_count": null,
   "metadata": {},
   "outputs": [
    {
     "ename": "",
     "evalue": "",
     "output_type": "error",
     "traceback": [
      "\u001b[1;31mRunning cells with 'myenv' requires the ipykernel package.\n",
      "\u001b[1;31mRun the following command to install 'ipykernel' into the Python environment. \n",
      "\u001b[1;31mCommand: '/home/juma/code/fresh/luqmon_tracking/myenv/bin/python -m pip install ipykernel -U --force-reinstall'"
     ]
    }
   ],
   "source": [
    "# Define the bounding box coordinates\n",
    "import matplotlib.patches as patches\n",
    "from matplotlib import pyplot as plt\n",
    "\n",
    "# Create a figure and axes\n",
    "fig, ax = plt.subplots(1)\n",
    "ax.imshow(im0s[0])\n",
    "\n",
    "boxes = predictor.results[0].boxes.data.cpu().numpy()\n",
    "class_ids = [56, 58, 56, 58]\n",
    "class_labels = [predictor.results[0].names[i] for i in class_ids]\n",
    "\n",
    "# Plot the bounding boxes with class labels\n",
    "for box, label in zip(boxes, class_labels):\n",
    "    x_min, y_min, x_max, y_max = box[:4]\n",
    "    width = x_max - x_min\n",
    "    height = y_max - y_min\n",
    "    rect = patches.Rectangle(\n",
    "        (x_min, y_min), width, height, linewidth=1, edgecolor='r', facecolor='none')\n",
    "    ax.add_patch(rect)\n",
    "    ax.text(x_min, y_min, str(label), color='y', fontsize=16)\n",
    "\n",
    "# Display the image with bounding boxes\n",
    "plt.axis('off')\n",
    "plt.show()"
   ]
  },
  {
   "cell_type": "code",
   "execution_count": null,
   "metadata": {},
   "outputs": [
    {
     "ename": "",
     "evalue": "",
     "output_type": "error",
     "traceback": [
      "\u001b[1;31mRunning cells with 'myenv' requires the ipykernel package.\n",
      "\u001b[1;31mRun the following command to install 'ipykernel' into the Python environment. \n",
      "\u001b[1;31mCommand: '/home/juma/code/fresh/luqmon_tracking/myenv/bin/python -m pip install ipykernel -U --force-reinstall'"
     ]
    }
   ],
   "source": [
    "predictor.results[0].feature_map_boxes[0][0].int()"
   ]
  },
  {
   "cell_type": "code",
   "execution_count": null,
   "metadata": {},
   "outputs": [
    {
     "ename": "",
     "evalue": "",
     "output_type": "error",
     "traceback": [
      "\u001b[1;31mRunning cells with 'myenv' requires the ipykernel package.\n",
      "\u001b[1;31mRun the following command to install 'ipykernel' into the Python environment. \n",
      "\u001b[1;31mCommand: '/home/juma/code/fresh/luqmon_tracking/myenv/bin/python -m pip install ipykernel -U --force-reinstall'"
     ]
    }
   ],
   "source": [
    "x_min, y_min, x_max, y_max, score, cls_id = predictor.results[0].feature_map_boxes[0][0].int(\n",
    ")\n",
    "juma1 = feature_map[0, :, y_min:y_max, x_min:x_max].mean(dim=(1, 2))\n",
    "juma1.shape"
   ]
  },
  {
   "attachments": {},
   "cell_type": "markdown",
   "metadata": {},
   "source": [
    "## frame2\n"
   ]
  },
  {
   "cell_type": "code",
   "execution_count": null,
   "metadata": {},
   "outputs": [
    {
     "ename": "",
     "evalue": "",
     "output_type": "error",
     "traceback": [
      "\u001b[1;31mRunning cells with 'myenv' requires the ipykernel package.\n",
      "\u001b[1;31mRun the following command to install 'ipykernel' into the Python environment. \n",
      "\u001b[1;31mCommand: '/home/juma/code/fresh/luqmon_tracking/myenv/bin/python -m pip install ipykernel -U --force-reinstall'"
     ]
    }
   ],
   "source": [
    "\n",
    "from ultralytics import yolo\n",
    "args = {'yolo_model': 'yolov8n', 'reid_model': Path('/home/juma/code/luqmon_tracking/examples/weights/mobilenetv2_x1_4_dukemtmcreid.pt'), 'tracking_method': 'deepocsort',\n",
    "        'imgsz': [640], 'conf': 0.5, 'iou': 0.7, 'device': '', 'show': True, 'save': False, 'classes': None, 'project': '/home/juma/code/luqmon_tracking/runs/track', 'name': 'exp', 'exist_ok': False, 'half': False, 'vid_stride': 1, 'hide_label': False, 'hide_conf': False, 'save_txt': False, 'save_id_crops': False, 'save_mot': False}\n",
    "\n",
    "model = YOLO(args['yolo_model'] if 'v8' in str(\n",
    "    args['yolo_model']) else 'yolov8n')\n",
    "overrides = model.overrides.copy()\n",
    "model.predictor = yolo.v8.detect.DetectionPredictor(\n",
    "    overrides=overrides, _callbacks=model.callbacks)\n",
    "\n",
    "# extract task predictor\n",
    "predictor = model.predictor\n",
    "\n",
    "# combine default predictor args with custom, preferring custom\n",
    "combined_args = {**predictor.args.__dict__, **args}\n",
    "# overwrite default args\n",
    "predictor.args = IterableSimpleNamespace(**combined_args)\n",
    "predictor.args.device = select_device(args['device'])\n",
    "\n",
    "\n",
    "# setup source and model\n",
    "if not predictor.model:\n",
    "    predictor.setup_model(model=model.model, verbose=False)\n",
    "\n",
    "predictor.setup_source(\n",
    "    '/home/juma/code/luqmon_tracking/assets/demo/frame2.png')\n",
    "\n",
    "predictor.args.imgsz = check_imgsz(\n",
    "    predictor.args.imgsz, stride=model.model.stride, min_dim=2)  # check image size\n",
    "\n",
    "# Warmup model\n",
    "if not predictor.done_warmup:\n",
    "    predictor.model.warmup(imgsz=(\n",
    "        1 if predictor.model.pt or predictor.model.triton else predictor.dataset.bs, 3, *predictor.imgsz))\n",
    "    predictor.done_warmup = True\n",
    "predictor.seen, predictor.windows, predictor.batch, predictor.profilers = 0, [\n",
    "], None, (ops.Profile(), ops.Profile(), ops.Profile(), ops.Profile())\n",
    "predictor.add_callback('on_predict_start', on_predict_start)\n",
    "predictor.run_callbacks('on_predict_start')\n",
    "model = MultiYolo(\n",
    "    model=model.predictor.model if 'v8' in str(\n",
    "        args['yolo_model']) else args['yolo_model'],\n",
    "    device=predictor.device,\n",
    "    args=predictor.args\n",
    ")\n",
    "for frame_idx, batch in enumerate(predictor.dataset):\n",
    "    predictor.run_callbacks('on_predict_batch_start')\n",
    "    predictor.batch = batch\n",
    "    path, im0s, vid_cap, s = batch\n",
    "\n",
    "    n = len(im0s)\n",
    "    predictor.results = [None] * n\n",
    "\n",
    "    # Preprocess\n",
    "    with predictor.profilers[0]:\n",
    "        im = predictor.preprocess(im0s)\n",
    "\n",
    "    # Inference\n",
    "    with predictor.profilers[1]:\n",
    "        preds = model(im, im0s)  # MODIFIED to return FeatureMap\n",
    "\n",
    "    # Postprocess moved to MultiYolo\n",
    "    with predictor.profilers[2]:\n",
    "        predictor.results = model.postprocess(\n",
    "            path, preds, im, im0s, predictor)  # MODIFIED to return FeatureMapBBoxes"
   ]
  },
  {
   "cell_type": "code",
   "execution_count": null,
   "metadata": {},
   "outputs": [
    {
     "ename": "",
     "evalue": "",
     "output_type": "error",
     "traceback": [
      "\u001b[1;31mRunning cells with 'myenv' requires the ipykernel package.\n",
      "\u001b[1;31mRun the following command to install 'ipykernel' into the Python environment. \n",
      "\u001b[1;31mCommand: '/home/juma/code/fresh/luqmon_tracking/myenv/bin/python -m pip install ipykernel -U --force-reinstall'"
     ]
    }
   ],
   "source": [
    "# Define the bounding box coordinates\n",
    "import matplotlib.patches as patches\n",
    "from matplotlib import pyplot as plt\n",
    "\n",
    "# Create a figure and axes\n",
    "fig, ax = plt.subplots(1)\n",
    "ax.imshow(im0s[0])\n",
    "\n",
    "boxes = predictor.results[0].boxes.data.cpu().numpy()\n",
    "class_ids = [56, 58, 56, 58]\n",
    "class_labels = [predictor.results[0].names[i] for i in class_ids]\n",
    "\n",
    "# Plot the bounding boxes with class labels\n",
    "for box, label in zip(boxes, class_labels):\n",
    "    x_min, y_min, x_max, y_max = box[:4]\n",
    "    width = x_max - x_min\n",
    "    height = y_max - y_min\n",
    "    rect = patches.Rectangle(\n",
    "        (x_min, y_min), width, height, linewidth=1, edgecolor='r', facecolor='none')\n",
    "    ax.add_patch(rect)\n",
    "    ax.text(x_min, y_min, str(label), color='y', fontsize=16)\n",
    "\n",
    "# Display the image with bounding boxes\n",
    "plt.axis('off')\n",
    "plt.show()"
   ]
  },
  {
   "cell_type": "code",
   "execution_count": null,
   "metadata": {},
   "outputs": [
    {
     "ename": "",
     "evalue": "",
     "output_type": "error",
     "traceback": [
      "\u001b[1;31mRunning cells with 'myenv' requires the ipykernel package.\n",
      "\u001b[1;31mRun the following command to install 'ipykernel' into the Python environment. \n",
      "\u001b[1;31mCommand: '/home/juma/code/fresh/luqmon_tracking/myenv/bin/python -m pip install ipykernel -U --force-reinstall'"
     ]
    }
   ],
   "source": [
    "x_min, y_min, x_max, y_max, score, cls_id = predictor.results[0].feature_map_boxes[0][0].int(\n",
    ")\n",
    "juma2 = feature_map[0, :, y_min:y_max, x_min:x_max].mean(dim=(1, 2))\n",
    "juma2.shape"
   ]
  },
  {
   "cell_type": "code",
   "execution_count": null,
   "metadata": {},
   "outputs": [
    {
     "ename": "",
     "evalue": "",
     "output_type": "error",
     "traceback": [
      "\u001b[1;31mRunning cells with 'myenv' requires the ipykernel package.\n",
      "\u001b[1;31mRun the following command to install 'ipykernel' into the Python environment. \n",
      "\u001b[1;31mCommand: '/home/juma/code/fresh/luqmon_tracking/myenv/bin/python -m pip install ipykernel -U --force-reinstall'"
     ]
    }
   ],
   "source": [
    "torch.norm(juma1 - juma2).item()"
   ]
  },
  {
   "cell_type": "code",
   "execution_count": null,
   "metadata": {},
   "outputs": [
    {
     "ename": "",
     "evalue": "",
     "output_type": "error",
     "traceback": [
      "\u001b[1;31mRunning cells with 'myenv' requires the ipykernel package.\n",
      "\u001b[1;31mRun the following command to install 'ipykernel' into the Python environment. \n",
      "\u001b[1;31mCommand: '/home/juma/code/fresh/luqmon_tracking/myenv/bin/python -m pip install ipykernel -U --force-reinstall'"
     ]
    }
   ],
   "source": [
    "feature_map.shape"
   ]
  },
  {
   "cell_type": "code",
   "execution_count": null,
   "metadata": {},
   "outputs": [
    {
     "ename": "",
     "evalue": "",
     "output_type": "error",
     "traceback": [
      "\u001b[1;31mRunning cells with 'myenv' requires the ipykernel package.\n",
      "\u001b[1;31mRun the following command to install 'ipykernel' into the Python environment. \n",
      "\u001b[1;31mCommand: '/home/juma/code/fresh/luqmon_tracking/myenv/bin/python -m pip install ipykernel -U --force-reinstall'"
     ]
    }
   ],
   "source": [
    "predictor.results[0].feature_map_boxes[0][0].int()"
   ]
  },
  {
   "cell_type": "code",
   "execution_count": null,
   "metadata": {},
   "outputs": [
    {
     "ename": "",
     "evalue": "",
     "output_type": "error",
     "traceback": [
      "\u001b[1;31mRunning cells with 'myenv' requires the ipykernel package.\n",
      "\u001b[1;31mRun the following command to install 'ipykernel' into the Python environment. \n",
      "\u001b[1;31mCommand: '/home/juma/code/fresh/luqmon_tracking/myenv/bin/python -m pip install ipykernel -U --force-reinstall'"
     ]
    }
   ],
   "source": [
    "# Define the bounding box coordinates\n",
    "import matplotlib.patches as patches\n",
    "from matplotlib import pyplot as plt\n",
    "\n",
    "# Create a figure and axes\n",
    "fig, ax = plt.subplots(1)\n",
    "# resize with opencv im0s[0]\n",
    "resized_img = cv2.resize(im0s[0], (320, 160))\n",
    "\n",
    "ax.imshow(resized_img)\n",
    "\n",
    "boxes = predictor.results[0].feature_map_boxes[0].int().cpu().numpy()\n",
    "class_ids = [56, 58, 56, 58]\n",
    "class_labels = [predictor.results[0].names[i] for i in class_ids]\n",
    "\n",
    "# Plot the bounding boxes with class labels\n",
    "for box, label in zip(boxes, class_labels):\n",
    "    x_min, y_min, x_max, y_max = box[:4]\n",
    "    width = x_max - x_min\n",
    "    height = y_max - y_min\n",
    "    rect = patches.Rectangle(\n",
    "        (x_min, y_min), width, height, linewidth=1, edgecolor='r', facecolor='none')\n",
    "    ax.add_patch(rect)\n",
    "    ax.text(x_min, y_min, str(label), color='y', fontsize=16)\n",
    "\n",
    "# Display the image with bounding boxes\n",
    "plt.axis('off')\n",
    "plt.show()"
   ]
  },
  {
   "cell_type": "code",
   "execution_count": null,
   "metadata": {},
   "outputs": [
    {
     "ename": "",
     "evalue": "",
     "output_type": "error",
     "traceback": [
      "\u001b[1;31mRunning cells with 'myenv' requires the ipykernel package.\n",
      "\u001b[1;31mRun the following command to install 'ipykernel' into the Python environment. \n",
      "\u001b[1;31mCommand: '/home/juma/code/fresh/luqmon_tracking/myenv/bin/python -m pip install ipykernel -U --force-reinstall'"
     ]
    }
   ],
   "source": []
  }
 ],
 "metadata": {
  "kernelspec": {
   "display_name": "myvenv",
   "language": "python",
   "name": "python3"
  },
  "language_info": {
   "codemirror_mode": {
    "name": "ipython",
    "version": 3
   },
   "file_extension": ".py",
   "mimetype": "text/x-python",
   "name": "python",
   "nbconvert_exporter": "python",
   "pygments_lexer": "ipython3",
   "version": "3.10.6"
  },
  "orig_nbformat": 4
 },
 "nbformat": 4,
 "nbformat_minor": 2
}
