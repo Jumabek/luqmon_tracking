{
 "cells": [
  {
   "cell_type": "code",
   "execution_count": 2,
   "metadata": {},
   "outputs": [],
   "source": [
    "import os\n",
    "\n",
    "\n",
    "def show_data_flow(repo_link):\n",
    "    \"\"\"Shows the data flow between Python modules/files in the repo.\"\"\"\n",
    "\n",
    "    data_flow = {}\n",
    "    for root, _, files in os.walk(repo_link):\n",
    "        for file in files:\n",
    "            if file.endswith(\".py\"):\n",
    "                with open(os.path.join(root, file)) as f:\n",
    "                    content = f.read()\n",
    "                    for import_statement in re.findall(r\"import\\s+(\\w+)\", content):\n",
    "                        module_name = import_statement.group(1)\n",
    "                        data_flow.setdefault(module_name, []).append(file)\n",
    "\n",
    "    return data_flow\n",
    "\n",
    "\n",
    "data_flow = show_data_flow(\"https://github.com/my-username/my-repo\")\n",
    "\n",
    "for module_name, imports in data_flow.items():\n",
    "    print(f\"Module: {module_name}\")\n",
    "    print(\"Imports:\")\n",
    "    for import_name in imports:\n",
    "        print(f\"  {import_name}\")"
   ]
  },
  {
   "cell_type": "code",
   "execution_count": 3,
   "metadata": {},
   "outputs": [
    {
     "data": {
      "text/plain": [
       "{}"
      ]
     },
     "execution_count": 3,
     "metadata": {},
     "output_type": "execute_result"
    }
   ],
   "source": [
    "show_data_flow('https://github.com/mikel-brostrom/yolo_tracking')"
   ]
  },
  {
   "cell_type": "code",
   "execution_count": null,
   "metadata": {},
   "outputs": [],
   "source": []
  }
 ],
 "metadata": {
  "kernelspec": {
   "display_name": "myenv",
   "language": "python",
   "name": "python3"
  },
  "language_info": {
   "codemirror_mode": {
    "name": "ipython",
    "version": 3
   },
   "file_extension": ".py",
   "mimetype": "text/x-python",
   "name": "python",
   "nbconvert_exporter": "python",
   "pygments_lexer": "ipython3",
   "version": "3.10.6"
  },
  "orig_nbformat": 4
 },
 "nbformat": 4,
 "nbformat_minor": 2
}
